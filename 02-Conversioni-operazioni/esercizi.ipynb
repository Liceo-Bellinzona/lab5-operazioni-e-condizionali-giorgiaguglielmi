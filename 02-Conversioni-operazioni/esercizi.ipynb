{
 "cells": [
  {
   "cell_type": "markdown",
   "metadata": {},
   "source": [
    "# Paga lorda\n",
    "Scrivere un programma che calcoli e visualizzi la paga lorda di un dipendente a ore. I\n",
    "passaggi da seguire sono i seguenti:\n",
    "1. Ottenere il numero di ore lavorative;\n",
    "2. ottenere retribuzione oraria;\n",
    "3. moltiplicare il numero di ore lavorate per la retribuzione oraria;\n",
    "4. visualizzare il risultato del calcolo eseguito al passaggio 3."
   ]
  },
  {
   "cell_type": "code",
   "execution_count": 10,
   "metadata": {},
   "outputs": [
    {
     "name": "stdout",
     "output_type": "stream",
     "text": [
      "160.65\n",
      "hai lavorato 10.5 ore per 15.3 franchi all' ora per un totale di 160.65 ore\n"
     ]
    }
   ],
   "source": [
    "ore : float = 10.5 \n",
    "ret : float = 15.3 \n",
    "salario : float = (ore*ret)\n",
    "print(salario)\n",
    "print(f\"hai lavorato {ore} ore per {ret} franchi all' ora per un totale di {salario} ore\")"
   ]
  },
  {
   "cell_type": "markdown",
   "metadata": {},
   "source": [
    "# Calcolo della superficie\n",
    "Un acro di terra corrisponde a circa 4046 metri quadrati. Scrivere un programma che chieda\n",
    "all’utente di inserire la superficie di un terreno in metri quadrati e calcoli quindi il numero\n",
    "di acri di quel terreno."
   ]
  },
  {
   "cell_type": "code",
   "execution_count": 17,
   "metadata": {},
   "outputs": [
    {
     "ename": "NameError",
     "evalue": "name 'floar' is not defined",
     "output_type": "error",
     "traceback": [
      "\u001b[0;31m---------------------------------------------------------------------------\u001b[0m",
      "\u001b[0;31mNameError\u001b[0m                                 Traceback (most recent call last)",
      "Cell \u001b[0;32mIn[17], line 2\u001b[0m\n\u001b[1;32m      1\u001b[0m un_acro : \u001b[38;5;28mfloat\u001b[39m \u001b[38;5;241m=\u001b[39m \u001b[38;5;241m4046\u001b[39m\n\u001b[0;32m----> 2\u001b[0m m_quad : \u001b[43mfloar\u001b[49m \u001b[38;5;241m=\u001b[39m \u001b[38;5;241m9836\u001b[39m \n\u001b[1;32m      3\u001b[0m n_acri : \u001b[38;5;28mfloat\u001b[39m \u001b[38;5;241m=\u001b[39m (m_quad\u001b[38;5;241m/\u001b[39mun_acro)\n\u001b[1;32m      4\u001b[0m \u001b[38;5;28mprint\u001b[39m(\u001b[38;5;124mf\u001b[39m\u001b[38;5;124m\"\u001b[39m\u001b[38;5;124mil quantitativo di \u001b[39m\u001b[38;5;132;01m{\u001b[39;00mm_quad\u001b[38;5;132;01m}\u001b[39;00m\u001b[38;5;124m metri quadrati corrisponde \u001b[39m\u001b[38;5;132;01m{\u001b[39;00mn_acri\u001b[38;5;132;01m}\u001b[39;00m\u001b[38;5;124m\"\u001b[39m)\n",
      "\u001b[0;31mNameError\u001b[0m: name 'floar' is not defined"
     ]
    }
   ],
   "source": [
    "un_acro : float = 4046\n",
    "m_quad : floar = 9836 \n",
    "n_acri : float = (m_quad/un_acro)\n",
    "print(f\"il quantitativo di {m_quad} metri quadrati corrisponde {n_acri}\")"
   ]
  },
  {
   "cell_type": "markdown",
   "metadata": {},
   "source": [
    "# Previsioni delle vendite \n",
    "Un’azienda ha determinato che il suo profitto annuale è tipicamente il 23% del totale delle\n",
    "vendite. \n",
    "Scrivere un programma che chieda all’utente di inserire il totale delle vendite previste e visualizzi quindi il profitto che si terrà da questa somma.\n",
    "\n",
    "*Suggerimento: non esiste il tipo di dato 23%. È necessario utilizzare gli operatori di\n",
    "moltiplicazione e divisione per ottenere la percentuale sul totale delle vendite.*\n"
   ]
  },
  {
   "cell_type": "markdown",
   "metadata": {},
   "source": []
  },
  {
   "cell_type": "markdown",
   "metadata": {},
   "source": [
    "# IVA \n",
    "Scrivere un programma che chieda all’utente di inserire il costo totale di un acquisto al netto\n",
    "di Iva. \n",
    "\n",
    "Si supponga che l’IVA sia pari all’8%. \n",
    "\n",
    "Il programma deve visualizzare il costo totale\n",
    "dell’acquisto al netto di IVA, l’IVA e il costo totale dell’acquisto (quindi IVA compresa)."
   ]
  },
  {
   "cell_type": "code",
   "execution_count": null,
   "metadata": {},
   "outputs": [],
   "source": [
    "iva : float"
   ]
  }
 ],
 "metadata": {
  "kernelspec": {
   "display_name": "work",
   "language": "python",
   "name": "python3"
  },
  "language_info": {
   "codemirror_mode": {
    "name": "ipython",
    "version": 3
   },
   "file_extension": ".py",
   "mimetype": "text/x-python",
   "name": "python",
   "nbconvert_exporter": "python",
   "pygments_lexer": "ipython3",
   "version": "3.10.13"
  }
 },
 "nbformat": 4,
 "nbformat_minor": 2
}
