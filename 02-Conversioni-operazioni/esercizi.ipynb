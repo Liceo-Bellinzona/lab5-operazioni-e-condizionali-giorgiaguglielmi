{
 "cells": [
  {
   "cell_type": "markdown",
   "metadata": {},
   "source": [
    "# Paga lorda\n",
    "Scrivere un programma che calcoli e visualizzi la paga lorda di un dipendente a ore. I\n",
    "passaggi da seguire sono i seguenti:\n",
    "1. Ottenere il numero di ore lavorative;\n",
    "2. ottenere retribuzione oraria;\n",
    "3. moltiplicare il numero di ore lavorate per la retribuzione oraria;\n",
    "4. visualizzare il risultato del calcolo eseguito al passaggio 3."
   ]
  },
  {
   "cell_type": "code",
   "execution_count": null,
   "metadata": {},
   "outputs": [],
   "source": [
    "ore : float = 10.5 \n",
    "ret : float = 15.3 \n",
    "salario : float = (ore*ret)\n",
    "print(salario)\n",
    "print(f\"hai lavorato {ore} ore per {ret} franchi all' ora per un totale di {salario} ore\")"
   ]
  },
  {
   "cell_type": "markdown",
   "metadata": {},
   "source": [
    "# Calcolo della superficie\n",
    "Un acro di terra corrisponde a circa 4046 metri quadrati. Scrivere un programma che chieda\n",
    "all’utente di inserire la superficie di un terreno in metri quadrati e calcoli quindi il numero\n",
    "di acri di quel terreno."
   ]
  },
  {
   "cell_type": "code",
   "execution_count": null,
   "metadata": {},
   "outputs": [],
   "source": [
    "un_acro : float = 4046\n",
    "m_quad : float = 9836 \n",
    "n_acri : float = (m_quad/un_acro)\n",
    "print(f\"il quantitativo di {m_quad} metri quadrati corrisponde {n_acri}\")"
   ]
  },
  {
   "cell_type": "markdown",
   "metadata": {},
   "source": [
    "# Previsioni delle vendite \n",
    "Un’azienda ha determinato che il suo profitto annuale è tipicamente il 23% del totale delle\n",
    "vendite. \n",
    "Scrivere un programma che chieda all’utente di inserire il totale delle vendite previste e visualizzi quindi il profitto che si terrà da questa somma.\n",
    "\n",
    "*Suggerimento: non esiste il tipo di dato 23%. È necessario utilizzare gli operatori di\n",
    "moltiplicazione e divisione per ottenere la percentuale sul totale delle vendite.*\n"
   ]
  },
  {
   "cell_type": "markdown",
   "metadata": {},
   "source": []
  },
  {
   "cell_type": "code",
   "execution_count": null,
   "metadata": {},
   "outputs": [],
   "source": [
    "totale_vendite= float (input(\"inserisci il totale delle vendite\"))\n",
    "print(f\"il tuo profitto annuale è di: {totale_vendite/100*23}\")"
   ]
  },
  {
   "cell_type": "markdown",
   "metadata": {},
   "source": [
    "# IVA \n",
    "Scrivere un programma che chieda all’utente di inserire il costo totale di un acquisto al netto\n",
    "di Iva. \n",
    "\n",
    "Si supponga che l’IVA sia pari all’8%. \n",
    "\n",
    "Il programma deve visualizzare il costo totale\n",
    "dell’acquisto al netto di IVA, l’IVA e il costo totale dell’acquisto (quindi IVA compresa)."
   ]
  },
  {
   "cell_type": "code",
   "execution_count": null,
   "metadata": {},
   "outputs": [],
   "source": [
    "costo_tot = float(input(f\"inserisci il costo totaée dell'acquisto\"))\n",
    "print(f\"il costo dell'acquisto al netto di IVA é {costo_tot}\")\n",
    "iva=costo_tot*8/100\n",
    "print(f\"l'IVA é di {iva}\")\n",
    "print(f\"costo totale dell'acquisto {iva+costo_tot}\")"
   ]
  },
  {
   "cell_type": "markdown",
   "metadata": {},
   "source": [
    "# esercizio biscotti \n",
    "Il modificatore di ricette\n",
    "\n",
    "La ricetta dei biscotti richiede questi ingredienti:\n",
    "\n",
    "• 150g di zucchero\n",
    "\n",
    "• 100g di burro\n",
    "\n",
    "• 275g di farina\n",
    "\n",
    "Partendo da questa ricetta si producono 48 biscotti. \n",
    "\n",
    "Il programma, partendo da questi dati deve chiedere all’utente quanti biscotti vuole preparare e\n",
    "visualizzare quindi quanti grammi di ciascun ingrediente sono necessari per\n",
    "preparare il numero di biscotti specificato."
   ]
  },
  {
   "cell_type": "code",
   "execution_count": 4,
   "metadata": {},
   "outputs": [
    {
     "data": {
      "text/plain": [
       "114.58333333333334"
      ]
     },
     "execution_count": 4,
     "metadata": {},
     "output_type": "execute_result"
    }
   ],
   "source": [
    "n_biscotti = 20\n",
    "zucchero = 150/48\n",
    "burro = 100/48\n",
    "farina = 275/48\n",
    "zucchero * n_biscotti\n",
    "burro * n_biscotti\n",
    "farina * n_biscotti"
   ]
  },
  {
   "cell_type": "code",
   "execution_count": null,
   "metadata": {},
   "outputs": [],
   "source": []
  }
 ],
 "metadata": {
  "kernelspec": {
   "display_name": "work",
   "language": "python",
   "name": "python3"
  },
  "language_info": {
   "codemirror_mode": {
    "name": "ipython",
    "version": 3
   },
   "file_extension": ".py",
   "mimetype": "text/x-python",
   "name": "python",
   "nbconvert_exporter": "python",
   "pygments_lexer": "ipython3",
   "version": "3.10.13"
  }
 },
 "nbformat": 4,
 "nbformat_minor": 2
}
