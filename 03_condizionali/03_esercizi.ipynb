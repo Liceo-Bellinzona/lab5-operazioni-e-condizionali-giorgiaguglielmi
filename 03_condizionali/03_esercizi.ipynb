{
 "cells": [
  {
   "cell_type": "markdown",
   "metadata": {},
   "source": [
    "# Altezza\n",
    "\n",
    "Viene chiesto di scrivere un programma che chieda all'utente di fornire la sua altezza in centimetri. Se l'altezza è maggiore o uguale a 180 il programma deve stampare la seguente dicitura: ``Sei una persona molto alta``.\n",
    "\n",
    "Tradurre il diagramma di flusso in un codice Python che risolva il problema.\n"
   ]
  },
  {
   "cell_type": "code",
   "execution_count": 13,
   "metadata": {},
   "outputs": [
    {
     "name": "stdout",
     "output_type": "stream",
     "text": [
      "Sei una persona molto alta\n"
     ]
    }
   ],
   "source": [
    "altezza = float(input (f\"inserire_altezza\"))\n",
    "if altezza >= 180 : \n",
    "    print (\"Sei una persona molto alta\")"
   ]
  },
  {
   "cell_type": "markdown",
   "metadata": {},
   "source": [
    "# Altezza 2\n",
    " Riprendere l'esercizio precedente ed aggiungere il codice che permetta al programma di scrivere ``Sei una persona di media altezza`` se l'altezza è inferiore a 180 cm.\n",
    "\n",
    " Tradurre il diagramma di flusso in un codice Python che risolva il problema."
   ]
  },
  {
   "cell_type": "code",
   "execution_count": 15,
   "metadata": {},
   "outputs": [
    {
     "name": "stdout",
     "output_type": "stream",
     "text": [
      "Sei una persona di media altezza\n"
     ]
    }
   ],
   "source": [
    "altezza = float(input (f\"inserire_altezza\"))\n",
    "if altezza >= 180 : \n",
    "    print (\"Sei una persona molto alta\")\n",
    "if altezza < 180 :\n",
    "    print (\"Sei una persona di media altezza\")"
   ]
  },
  {
   "cell_type": "markdown",
   "metadata": {},
   "source": [
    "# Area rettangolo\n",
    "L'area di un rettangolo è uguale alla sua base per la sua altezza. Scrivere un programma che chieda la base e l'altezza di due rettangoli e successivamente indichi quale dei due rettangoli ha l'area maggiore."
   ]
  },
  {
   "cell_type": "code",
   "execution_count": 24,
   "metadata": {},
   "outputs": [
    {
     "name": "stdout",
     "output_type": "stream",
     "text": [
      "Il rettangolo 1 ha un'area maggiore\n"
     ]
    }
   ],
   "source": [
    "base_rettangolo1 = float(input (f\"inserire_base_rettangolo1\"))\n",
    "\n",
    "altezza_rettangolo1 = float(input (f\"inserire_altezza:rettangolo2\"))\n",
    "\n",
    "base_rettangolo2 = float(input (f\"inseire_base_rettangolo2\"))\n",
    "\n",
    "altezza_rettangolo2 = float (input(f\"inserire_altezza_rettangolo2\"))\n",
    "\n",
    "\n",
    "area_rettangolo1 = base_rettangolo1 * altezza_rettangolo1\n",
    "\n",
    "area_rettangolo2 = base_rettangolo2 * altezza_rettangolo2\n",
    "\n",
    "\n",
    "if area_rettangolo1 > area_rettangolo2 :\n",
    "    print(\"Il rettangolo 1 ha un'area maggiore\")\n",
    "\n",
    "if area_rettangolo1 < area_rettangolo2 :\n",
    "    print (\"Il rettangolo 2 ha un'area maggiore\")\n",
    "\n",
    "if area_rettangolo1 == area_rettangolo2 :\n",
    "    print (\"I due rettangoli hanno la stessa area\")"
   ]
  },
  {
   "cell_type": "markdown",
   "metadata": {},
   "source": [
    "# Pari e dispari\n",
    "Scrivere un programma che chieda all'utente di indicare un numero intero. Se il numero è pari, il programma deve visualizzare: ``Il tuo numero è pari`` , se invece il numero è dispari deve visualizzare: ``Il tuo numero è dispari``."
   ]
  },
  {
   "cell_type": "code",
   "execution_count": 31,
   "metadata": {},
   "outputs": [
    {
     "name": "stdout",
     "output_type": "stream",
     "text": [
      "Il tuo numero é dispari\n"
     ]
    }
   ],
   "source": [
    "numero_intero = int(input(f\"inserire_numero_intero\"))\n",
    "if numero_intero % 2 ==0 :\n",
    "    print(\"Il tuo numero é pari\")\n",
    "else:\n",
    "    print(\"Il tuo numero é dispari\")"
   ]
  },
  {
   "cell_type": "markdown",
   "metadata": {},
   "source": [
    "# Password\n",
    " Scrivere un programma che chieda all'utente di inserire una password a proprio piacimento. Se la password è composta da almeno 8 caratteri il programma deve visualizzare: ``La password è stata accettata`` , altrimenti ``La password inserita è troppo corta``"
   ]
  },
  {
   "cell_type": "markdown",
   "metadata": {},
   "source": []
  },
  {
   "cell_type": "code",
   "execution_count": 36,
   "metadata": {},
   "outputs": [
    {
     "name": "stdout",
     "output_type": "stream",
     "text": [
      "La password é stata accettata\n"
     ]
    }
   ],
   "source": [
    "password = input(\"inserire_password\")\n",
    "lunghezza=len(password)\n",
    "if lunghezza < 8:\n",
    "    print(\"La password inserita é troppo corta\")\n",
    "else:\n",
    "    print(\"La password é stata accettata\")"
   ]
  },
  {
   "cell_type": "markdown",
   "metadata": {},
   "source": [
    "# Assegnazioni 2\n",
    "Scrivere una istruzione ``if-else `` che assegni 0 alla variabile ``b`` se la variabile ``a`` è minore di 10. In caso contrario, l'istruzione deve assegnare 99 alla variabile ``b``."
   ]
  },
  {
   "cell_type": "markdown",
   "metadata": {},
   "source": []
  }
 ],
 "metadata": {
  "kernelspec": {
   "display_name": "Python 3",
   "language": "python",
   "name": "python3"
  },
  "language_info": {
   "codemirror_mode": {
    "name": "ipython",
    "version": 3
   },
   "file_extension": ".py",
   "mimetype": "text/x-python",
   "name": "python",
   "nbconvert_exporter": "python",
   "pygments_lexer": "ipython3",
   "version": "3.10.13"
  }
 },
 "nbformat": 4,
 "nbformat_minor": 2
}
